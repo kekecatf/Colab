{
  "nbformat": 4,
  "nbformat_minor": 0,
  "metadata": {
    "colab": {
      "provenance": [],
      "mount_file_id": "1S4VP_Y5348vZek1bXrRo5ldCvbo5NGUh",
      "authorship_tag": "ABX9TyP6mUrztFsZDvZctfH2g5Y5",
      "include_colab_link": true
    },
    "kernelspec": {
      "name": "python3",
      "display_name": "Python 3"
    },
    "language_info": {
      "name": "python"
    }
  },
  "cells": [
    {
      "cell_type": "markdown",
      "metadata": {
        "id": "view-in-github",
        "colab_type": "text"
      },
      "source": [
        "<a href=\"https://colab.research.google.com/github/kekecatf/Colab/blob/main/MakinaModelSon.ipynb\" target=\"_parent\"><img src=\"https://colab.research.google.com/assets/colab-badge.svg\" alt=\"Open In Colab\"/></a>"
      ]
    },
    {
      "cell_type": "code",
      "execution_count": null,
      "metadata": {
        "colab": {
          "base_uri": "https://localhost:8080/"
        },
        "collapsed": true,
        "id": "MQZNonvbD0GV",
        "outputId": "27d56edc-6f9d-46b3-9f8f-9d5232f6b575"
      },
      "outputs": [
        {
          "output_type": "stream",
          "name": "stdout",
          "text": [
            "Requirement already satisfied: osmnx in /usr/local/lib/python3.10/dist-packages (2.0.0)\n",
            "Requirement already satisfied: geopandas>=1.0 in /usr/local/lib/python3.10/dist-packages (from osmnx) (1.0.1)\n",
            "Requirement already satisfied: networkx>=2.5 in /usr/local/lib/python3.10/dist-packages (from osmnx) (3.4.2)\n",
            "Requirement already satisfied: numpy>=1.22 in /usr/local/lib/python3.10/dist-packages (from osmnx) (1.26.4)\n",
            "Requirement already satisfied: pandas>=1.4 in /usr/local/lib/python3.10/dist-packages (from osmnx) (2.2.2)\n",
            "Requirement already satisfied: requests>=2.27 in /usr/local/lib/python3.10/dist-packages (from osmnx) (2.32.3)\n",
            "Requirement already satisfied: shapely>=2.0 in /usr/local/lib/python3.10/dist-packages (from osmnx) (2.0.6)\n",
            "Requirement already satisfied: pyogrio>=0.7.2 in /usr/local/lib/python3.10/dist-packages (from geopandas>=1.0->osmnx) (0.10.0)\n",
            "Requirement already satisfied: packaging in /usr/local/lib/python3.10/dist-packages (from geopandas>=1.0->osmnx) (24.2)\n",
            "Requirement already satisfied: pyproj>=3.3.0 in /usr/local/lib/python3.10/dist-packages (from geopandas>=1.0->osmnx) (3.7.0)\n",
            "Requirement already satisfied: python-dateutil>=2.8.2 in /usr/local/lib/python3.10/dist-packages (from pandas>=1.4->osmnx) (2.8.2)\n",
            "Requirement already satisfied: pytz>=2020.1 in /usr/local/lib/python3.10/dist-packages (from pandas>=1.4->osmnx) (2024.2)\n",
            "Requirement already satisfied: tzdata>=2022.7 in /usr/local/lib/python3.10/dist-packages (from pandas>=1.4->osmnx) (2024.2)\n",
            "Requirement already satisfied: charset-normalizer<4,>=2 in /usr/local/lib/python3.10/dist-packages (from requests>=2.27->osmnx) (3.4.0)\n",
            "Requirement already satisfied: idna<4,>=2.5 in /usr/local/lib/python3.10/dist-packages (from requests>=2.27->osmnx) (3.10)\n",
            "Requirement already satisfied: urllib3<3,>=1.21.1 in /usr/local/lib/python3.10/dist-packages (from requests>=2.27->osmnx) (2.2.3)\n",
            "Requirement already satisfied: certifi>=2017.4.17 in /usr/local/lib/python3.10/dist-packages (from requests>=2.27->osmnx) (2024.12.14)\n",
            "Requirement already satisfied: six>=1.5 in /usr/local/lib/python3.10/dist-packages (from python-dateutil>=2.8.2->pandas>=1.4->osmnx) (1.17.0)\n",
            "Requirement already satisfied: networkx in /usr/local/lib/python3.10/dist-packages (3.4.2)\n",
            "Requirement already satisfied: joblib in /usr/local/lib/python3.10/dist-packages (1.4.2)\n",
            "Requirement already satisfied: folium in /usr/local/lib/python3.10/dist-packages (0.19.2)\n",
            "Requirement already satisfied: requests in /usr/local/lib/python3.10/dist-packages (2.32.3)\n",
            "Requirement already satisfied: branca>=0.6.0 in /usr/local/lib/python3.10/dist-packages (from folium) (0.8.1)\n",
            "Requirement already satisfied: jinja2>=2.9 in /usr/local/lib/python3.10/dist-packages (from folium) (3.1.4)\n",
            "Requirement already satisfied: numpy in /usr/local/lib/python3.10/dist-packages (from folium) (1.26.4)\n",
            "Requirement already satisfied: xyzservices in /usr/local/lib/python3.10/dist-packages (from folium) (2024.9.0)\n",
            "Requirement already satisfied: charset-normalizer<4,>=2 in /usr/local/lib/python3.10/dist-packages (from requests) (3.4.0)\n",
            "Requirement already satisfied: idna<4,>=2.5 in /usr/local/lib/python3.10/dist-packages (from requests) (3.10)\n",
            "Requirement already satisfied: urllib3<3,>=1.21.1 in /usr/local/lib/python3.10/dist-packages (from requests) (2.2.3)\n",
            "Requirement already satisfied: certifi>=2017.4.17 in /usr/local/lib/python3.10/dist-packages (from requests) (2024.12.14)\n",
            "Requirement already satisfied: MarkupSafe>=2.0 in /usr/local/lib/python3.10/dist-packages (from jinja2>=2.9->folium) (3.0.2)\n"
          ]
        }
      ],
      "source": [
        "#1 Gerekli Kütüphanelerin Yüklenmesi\n",
        "!pip install osmnx\n",
        "!pip install networkx\n",
        "!pip install joblib\n",
        "!pip install folium requests"
      ]
    },
    {
      "cell_type": "code",
      "source": [
        "#2 İçe Aktarılması\n",
        "import joblib\n",
        "import osmnx as ox\n",
        "import pandas as pd\n",
        "import networkx as nx\n",
        "import zipfile\n",
        "import folium"
      ],
      "metadata": {
        "id": "AtG6cqFLH8lD"
      },
      "execution_count": null,
      "outputs": []
    },
    {
      "cell_type": "code",
      "source": [
        "#3 ZIP Dosyasını Açma\n",
        "zip_path = '/content/drive/My Drive/random_forest_model.zip'\n",
        "extract_to = '/content/drive/My Drive/veriler/'\n",
        "\n",
        "with zipfile.ZipFile(zip_path, 'r') as zip_ref:\n",
        "    zip_ref.extractall(extract_to)"
      ],
      "metadata": {
        "id": "9qTkuLTXD7l7"
      },
      "execution_count": null,
      "outputs": []
    },
    {
      "cell_type": "code",
      "source": [
        "#4 Model Yükleme\n",
        "model = joblib.load('/content/drive/My Drive/veriler/random_forest_model.pkl')\n",
        "G = ox.load_graphml('/content/drive/My Drive/veriler/istanbul_yol_agi.graphml')"
      ],
      "metadata": {
        "colab": {
          "base_uri": "https://localhost:8080/"
        },
        "collapsed": true,
        "id": "zr2Gg8y7D75c",
        "outputId": "7b35c0fe-2d4f-4bfe-a281-a8ba13a77845"
      },
      "execution_count": null,
      "outputs": [
        {
          "output_type": "stream",
          "name": "stderr",
          "text": [
            "/usr/local/lib/python3.10/dist-packages/sklearn/base.py:380: InconsistentVersionWarning: Trying to unpickle estimator DecisionTreeRegressor from version 1.5.2 when using version 1.6.0. This might lead to breaking code or invalid results. Use at your own risk. For more info please refer to:\n",
            "https://scikit-learn.org/stable/model_persistence.html#security-maintainability-limitations\n",
            "  warnings.warn(\n",
            "/usr/local/lib/python3.10/dist-packages/sklearn/base.py:380: InconsistentVersionWarning: Trying to unpickle estimator RandomForestRegressor from version 1.5.2 when using version 1.6.0. This might lead to breaking code or invalid results. Use at your own risk. For more info please refer to:\n",
            "https://scikit-learn.org/stable/model_persistence.html#security-maintainability-limitations\n",
            "  warnings.warn(\n"
          ]
        }
      ]
    },
    {
      "cell_type": "code",
      "source": [
        "#5 Hız Limitleri ve Özelliklerin Eklenmesi\n",
        "speed_limits = {\n",
        "    \"residential\": 50,\n",
        "    \"living_street\": 50,\n",
        "    \"secondary\": 80,\n",
        "    \"tertiary\": 80,\n",
        "    \"unclassified\": 0,\n",
        "    \"primary\": 90,\n",
        "    \"trunk\": 90,\n",
        "    \"motorway\": 120\n",
        "}\n",
        "\n",
        "features = []\n",
        "\n",
        "for u, v, data in G.edges(data=True):\n",
        "    highway_type = data.get(\"highway\", \"residential\")\n",
        "    if isinstance(highway_type, list):\n",
        "        highway_type = highway_type[0]\n",
        "    data['speed_kph'] = speed_limits.get(highway_type, 50)\n",
        "    features.append({\n",
        "        'length': data.get('length', 0),\n",
        "        'speed_kph': data.get('speed_kph', 50),\n",
        "        'traffic_density': data.get('traffic_density', 0),\n",
        "        'average_speed': data.get('average_speed', 50)\n",
        "    })\n"
      ],
      "metadata": {
        "id": "91nxJK-CGmdM"
      },
      "execution_count": null,
      "outputs": []
    },
    {
      "cell_type": "code",
      "source": [
        "#6 Özelliklerin Veri Çerçevesine Dönüştürülmesi ve Tahmin\n",
        "features_df = pd.DataFrame(features)\n",
        "travel_times = model.predict(features_df)\n",
        "\n",
        "for (u, v, data), travel_time in zip(G.edges(data=True), travel_times):\n",
        "    data['travel_time'] = travel_time\n"
      ],
      "metadata": {
        "id": "SHWwBCeZD8D6"
      },
      "execution_count": null,
      "outputs": []
    },
    {
      "cell_type": "code",
      "source": [
        "#7 Başlangıç ve Bitiş Noktalarının Belirlenmesi\n",
        "latitude1, longitude1 = 41.211630, 28.914143  # Başlangıç koordinatları\n",
        "latitude2, longitude2 = 41.015754, 29.134604  # Bitiş koordinatları\n",
        "\n",
        "source = ox.distance.nearest_nodes(G, longitude1, latitude1)\n",
        "target = ox.distance.nearest_nodes(G, longitude2, latitude2)\n"
      ],
      "metadata": {
        "id": "JUs3YrzcL8zX"
      },
      "execution_count": null,
      "outputs": []
    },
    {
      "cell_type": "code",
      "source": [
        "#8 En Verimli Rota Ağırlıklandırması\n",
        "for u, v, data in G.edges(data=True):\n",
        "    length = data.get('length', 0)  # Yolun uzunluğu (metre)\n",
        "    traffic = data.get('traffic_density', 0)  # Trafik yoğunluğu\n",
        "    red_lights = data.get('red_light', 0)  # Kırmızı ışık sayısı\n",
        "\n",
        "    # Yakıt tüketimini etkileyen faktörlerin ağırlıklı toplamı\n",
        "    data['fuel_efficiency_cost'] = (\n",
        "        length / 1000 +          # Mesafenin etkisi\n",
        "        2 * traffic +            # Trafik yoğunluğu etkisi (katsayı ayarlanabilir)\n",
        "        3 * red_lights           # Kırmızı ışıkların etkisi (katsayı ayarlanabilir)\n",
        "    )\n"
      ],
      "metadata": {
        "collapsed": true,
        "id": "Aofa9MZDI71G"
      },
      "execution_count": null,
      "outputs": []
    },
    {
      "cell_type": "code",
      "source": [
        "#9 En Verimli Rota ve Toplam Maliyet\n",
        "shortest_path = nx.shortest_path(G, source, target, weight='fuel_efficiency_cost')\n"
      ],
      "metadata": {
        "id": "hzG2DJMVMA-w"
      },
      "execution_count": null,
      "outputs": []
    },
    {
      "cell_type": "code",
      "source": [
        "#10 Toplam Maliyet Hesaplama\n",
        "total_cost = sum(\n",
        "    G[u][v][0].get('fuel_efficiency_cost', 0) for u, v in zip(shortest_path[:-1], shortest_path[1:])\n",
        ")\n",
        "\n",
        "# Toplam Mesafe ve Tahmini Süre\n",
        "total_distance_km = sum(\n",
        "    G[u][v][0].get('length', 0) for u, v in zip(shortest_path[:-1], shortest_path[1:])\n",
        ") / 1000  # Metreden kilometreye dönüştürme\n",
        "\n",
        "average_speed = 50  # Varsayılan ortalama hız (km/saat)\n",
        "estimated_time_minutes = (total_distance_km / average_speed) * 60  # Dakika cinsinden süre\n",
        "\n",
        "# Bilgilerin Konsola Yazdırılması\n",
        "print(f\"Yakıt verimliliği rotasının toplam maliyeti: {total_cost:.2f}\")\n",
        "print(f\"Toplam mesafe: {total_distance_km:.2f} km\")\n",
        "print(f\"Tahmini süre: {estimated_time_minutes:.2f} dakika\")\n"
      ],
      "metadata": {
        "id": "DJ-Vpjy-MLik",
        "colab": {
          "base_uri": "https://localhost:8080/"
        },
        "outputId": "e732deee-09d4-4ec3-a49f-400dd1e46749"
      },
      "execution_count": null,
      "outputs": [
        {
          "output_type": "stream",
          "name": "stdout",
          "text": [
            "Yakıt verimliliği rotasının toplam maliyeti: 36.74\n",
            "Toplam mesafe: 36.74 km\n",
            "Tahmini süre: 44.09 dakika\n"
          ]
        }
      ]
    },
    {
      "cell_type": "code",
      "source": [
        "#11 Harita Görselleştirme\n",
        "m = folium.Map(location=[latitude1, longitude1], zoom_start=12)\n"
      ],
      "metadata": {
        "id": "VRAdQGYcD8NX"
      },
      "execution_count": null,
      "outputs": []
    },
    {
      "cell_type": "code",
      "source": [
        "#12 Başlangıç ve bitiş noktalarını işaretleme\n",
        "folium.Marker(\n",
        "    location=[latitude1, longitude1],\n",
        "    tooltip=\"Başlangıç\",\n",
        "    icon=folium.Icon(color=\"green\")\n",
        ").add_to(m)\n",
        "\n",
        "folium.Marker(\n",
        "    location=[latitude2, longitude2],\n",
        "    tooltip=\"Bitiş\",\n",
        "    icon=folium.Icon(color=\"red\")\n",
        ").add_to(m)\n"
      ],
      "metadata": {
        "id": "ZwS5sGo8D8V5",
        "colab": {
          "base_uri": "https://localhost:8080/"
        },
        "outputId": "2d1f005a-7f4a-489a-9580-96e7ba28e1e1"
      },
      "execution_count": null,
      "outputs": [
        {
          "output_type": "execute_result",
          "data": {
            "text/plain": [
              "<folium.map.Marker at 0x7bbccdd2e4a0>"
            ]
          },
          "metadata": {},
          "execution_count": 27
        }
      ]
    },
    {
      "cell_type": "code",
      "source": [
        "#13 Rota Çizimi\n",
        "path_coords = [(G.nodes[node]['y'], G.nodes[node]['x']) for node in shortest_path]\n",
        "folium.PolyLine(\n",
        "    locations=path_coords,\n",
        "    color=\"blue\",\n",
        "    weight=5,\n",
        "    opacity=0.8\n",
        ").add_to(m)"
      ],
      "metadata": {
        "id": "5I4nRhApD8do",
        "colab": {
          "base_uri": "https://localhost:8080/"
        },
        "outputId": "4ec22fdb-e554-4d75-ef68-e09311641eb0"
      },
      "execution_count": null,
      "outputs": [
        {
          "output_type": "execute_result",
          "data": {
            "text/plain": [
              "<folium.vector_layers.PolyLine at 0x7bbccdd2d2a0>"
            ]
          },
          "metadata": {},
          "execution_count": 28
        }
      ]
    },
    {
      "cell_type": "code",
      "source": [
        "#14 Rota Bilgileri Popup (Bilgi Balonu) Eklenmesi\n",
        "popup_text = (\n",
        "    f\"<b>Rota Bilgileri:</b><br>\"\n",
        "    f\"Toplam mesafe: {total_distance_km:.2f} km<br>\"\n",
        "    f\"Tahmini süre: {estimated_time_minutes:.2f} dakika<br>\"\n",
        "    f\"Yakıt verimliliği maliyeti: {total_cost:.2f}\"\n",
        ")\n",
        "folium.Marker(\n",
        "    location=[(latitude1 + latitude2) / 2, (longitude1 + longitude2) / 2],  # Rota ortasına yerleştirme\n",
        "    popup=folium.Popup(popup_text, max_width=300),\n",
        "    icon=folium.Icon(color=\"blue\", icon=\"info-sign\")\n",
        ").add_to(m)\n"
      ],
      "metadata": {
        "id": "w3a6SUbbIRWR",
        "colab": {
          "base_uri": "https://localhost:8080/"
        },
        "outputId": "24f41bc3-965e-4772-ea3f-5e72cad6bd3e"
      },
      "execution_count": null,
      "outputs": [
        {
          "output_type": "execute_result",
          "data": {
            "text/plain": [
              "<folium.map.Marker at 0x7bbccdd2e800>"
            ]
          },
          "metadata": {},
          "execution_count": 29
        }
      ]
    },
    {
      "cell_type": "code",
      "source": [
        "#15 Haritayı Kaydetme ve Görüntüleme\n",
        "m.save(\"route_map.html\")\n",
        "m"
      ],
      "metadata": {
        "colab": {
          "base_uri": "https://localhost:8080/",
          "height": 685
        },
        "id": "UxmZE6rQD8lp",
        "outputId": "74103141-51f5-46ff-cf24-b137016457dd"
      },
      "execution_count": null,
      "outputs": [
        {
          "output_type": "execute_result",
          "data": {
            "text/plain": [
              "<folium.folium.Map at 0x7bbccdd2d270>"
            ],
            "text/html": [
              "<div style=\"width:100%;\"><div style=\"position:relative;width:100%;height:0;padding-bottom:60%;\"><span style=\"color:#565656\">Make this Notebook Trusted to load map: File -> Trust Notebook</span><iframe srcdoc=\"&lt;!DOCTYPE html&gt;\n",
              "&lt;html&gt;\n",
              "&lt;head&gt;\n",
              "    \n",
              "    &lt;meta http-equiv=&quot;content-type&quot; content=&quot;text/html; charset=UTF-8&quot; /&gt;\n",
              "    \n",
              "        &lt;script&gt;\n",
              "            L_NO_TOUCH = false;\n",
              "            L_DISABLE_3D = false;\n",
              "        &lt;/script&gt;\n",
              "    \n",
              "    &lt;style&gt;html, body {width: 100%;height: 100%;margin: 0;padding: 0;}&lt;/style&gt;\n",
              "    &lt;style&gt;#map {position:absolute;top:0;bottom:0;right:0;left:0;}&lt;/style&gt;\n",
              "    &lt;script src=&quot;https://cdn.jsdelivr.net/npm/leaflet@1.9.3/dist/leaflet.js&quot;&gt;&lt;/script&gt;\n",
              "    &lt;script src=&quot;https://code.jquery.com/jquery-3.7.1.min.js&quot;&gt;&lt;/script&gt;\n",
              "    &lt;script src=&quot;https://cdn.jsdelivr.net/npm/bootstrap@5.2.2/dist/js/bootstrap.bundle.min.js&quot;&gt;&lt;/script&gt;\n",
              "    &lt;script src=&quot;https://cdnjs.cloudflare.com/ajax/libs/Leaflet.awesome-markers/2.0.2/leaflet.awesome-markers.js&quot;&gt;&lt;/script&gt;\n",
              "    &lt;link rel=&quot;stylesheet&quot; href=&quot;https://cdn.jsdelivr.net/npm/leaflet@1.9.3/dist/leaflet.css&quot;/&gt;\n",
              "    &lt;link rel=&quot;stylesheet&quot; href=&quot;https://cdn.jsdelivr.net/npm/bootstrap@5.2.2/dist/css/bootstrap.min.css&quot;/&gt;\n",
              "    &lt;link rel=&quot;stylesheet&quot; href=&quot;https://netdna.bootstrapcdn.com/bootstrap/3.0.0/css/bootstrap-glyphicons.css&quot;/&gt;\n",
              "    &lt;link rel=&quot;stylesheet&quot; href=&quot;https://cdn.jsdelivr.net/npm/@fortawesome/fontawesome-free@6.2.0/css/all.min.css&quot;/&gt;\n",
              "    &lt;link rel=&quot;stylesheet&quot; href=&quot;https://cdnjs.cloudflare.com/ajax/libs/Leaflet.awesome-markers/2.0.2/leaflet.awesome-markers.css&quot;/&gt;\n",
              "    &lt;link rel=&quot;stylesheet&quot; href=&quot;https://cdn.jsdelivr.net/gh/python-visualization/folium/folium/templates/leaflet.awesome.rotate.min.css&quot;/&gt;\n",
              "    \n",
              "            &lt;meta name=&quot;viewport&quot; content=&quot;width=device-width,\n",
              "                initial-scale=1.0, maximum-scale=1.0, user-scalable=no&quot; /&gt;\n",
              "            &lt;style&gt;\n",
              "                #map_508c3d8ee8c564de84f10fd1e4a628b7 {\n",
              "                    position: relative;\n",
              "                    width: 100.0%;\n",
              "                    height: 100.0%;\n",
              "                    left: 0.0%;\n",
              "                    top: 0.0%;\n",
              "                }\n",
              "                .leaflet-container { font-size: 1rem; }\n",
              "            &lt;/style&gt;\n",
              "        \n",
              "&lt;/head&gt;\n",
              "&lt;body&gt;\n",
              "    \n",
              "    \n",
              "            &lt;div class=&quot;folium-map&quot; id=&quot;map_508c3d8ee8c564de84f10fd1e4a628b7&quot; &gt;&lt;/div&gt;\n",
              "        \n",
              "&lt;/body&gt;\n",
              "&lt;script&gt;\n",
              "    \n",
              "    \n",
              "            var map_508c3d8ee8c564de84f10fd1e4a628b7 = L.map(\n",
              "                &quot;map_508c3d8ee8c564de84f10fd1e4a628b7&quot;,\n",
              "                {\n",
              "                    center: [41.21163, 28.914143],\n",
              "                    crs: L.CRS.EPSG3857,\n",
              "                    ...{\n",
              "  &quot;zoom&quot;: 12,\n",
              "  &quot;zoomControl&quot;: true,\n",
              "  &quot;preferCanvas&quot;: false,\n",
              "}\n",
              "\n",
              "                }\n",
              "            );\n",
              "\n",
              "            \n",
              "\n",
              "        \n",
              "    \n",
              "            var tile_layer_dd4cbc15567ecaa74e2ad59b57c065c5 = L.tileLayer(\n",
              "                &quot;https://tile.openstreetmap.org/{z}/{x}/{y}.png&quot;,\n",
              "                {\n",
              "  &quot;minZoom&quot;: 0,\n",
              "  &quot;maxZoom&quot;: 19,\n",
              "  &quot;maxNativeZoom&quot;: 19,\n",
              "  &quot;noWrap&quot;: false,\n",
              "  &quot;attribution&quot;: &quot;\\u0026copy; \\u003ca href=\\&quot;https://www.openstreetmap.org/copyright\\&quot;\\u003eOpenStreetMap\\u003c/a\\u003e contributors&quot;,\n",
              "  &quot;subdomains&quot;: &quot;abc&quot;,\n",
              "  &quot;detectRetina&quot;: false,\n",
              "  &quot;tms&quot;: false,\n",
              "  &quot;opacity&quot;: 1,\n",
              "}\n",
              "\n",
              "            );\n",
              "        \n",
              "    \n",
              "            tile_layer_dd4cbc15567ecaa74e2ad59b57c065c5.addTo(map_508c3d8ee8c564de84f10fd1e4a628b7);\n",
              "        \n",
              "    \n",
              "            var marker_05d7720a03ce493d89bde4ecf9dc4129 = L.marker(\n",
              "                [41.21163, 28.914143],\n",
              "                {\n",
              "}\n",
              "            ).addTo(map_508c3d8ee8c564de84f10fd1e4a628b7);\n",
              "        \n",
              "    \n",
              "            var icon_6fef4dc9cd5ce4326294f5dcf750945b = L.AwesomeMarkers.icon(\n",
              "                {\n",
              "  &quot;markerColor&quot;: &quot;green&quot;,\n",
              "  &quot;iconColor&quot;: &quot;white&quot;,\n",
              "  &quot;icon&quot;: &quot;info-sign&quot;,\n",
              "  &quot;prefix&quot;: &quot;glyphicon&quot;,\n",
              "  &quot;extraClasses&quot;: &quot;fa-rotate-0&quot;,\n",
              "}\n",
              "            );\n",
              "            marker_05d7720a03ce493d89bde4ecf9dc4129.setIcon(icon_6fef4dc9cd5ce4326294f5dcf750945b);\n",
              "        \n",
              "    \n",
              "            marker_05d7720a03ce493d89bde4ecf9dc4129.bindTooltip(\n",
              "                `&lt;div&gt;\n",
              "                     Başlangıç\n",
              "                 &lt;/div&gt;`,\n",
              "                {\n",
              "  &quot;sticky&quot;: true,\n",
              "}\n",
              "            );\n",
              "        \n",
              "    \n",
              "            var marker_3c5af83a25653b60c706c5f8cbebe233 = L.marker(\n",
              "                [41.015754, 29.134604],\n",
              "                {\n",
              "}\n",
              "            ).addTo(map_508c3d8ee8c564de84f10fd1e4a628b7);\n",
              "        \n",
              "    \n",
              "            var icon_f67f87fa955e57b1662f1bf44bb7a338 = L.AwesomeMarkers.icon(\n",
              "                {\n",
              "  &quot;markerColor&quot;: &quot;red&quot;,\n",
              "  &quot;iconColor&quot;: &quot;white&quot;,\n",
              "  &quot;icon&quot;: &quot;info-sign&quot;,\n",
              "  &quot;prefix&quot;: &quot;glyphicon&quot;,\n",
              "  &quot;extraClasses&quot;: &quot;fa-rotate-0&quot;,\n",
              "}\n",
              "            );\n",
              "            marker_3c5af83a25653b60c706c5f8cbebe233.setIcon(icon_f67f87fa955e57b1662f1bf44bb7a338);\n",
              "        \n",
              "    \n",
              "            marker_3c5af83a25653b60c706c5f8cbebe233.bindTooltip(\n",
              "                `&lt;div&gt;\n",
              "                     Bitiş\n",
              "                 &lt;/div&gt;`,\n",
              "                {\n",
              "  &quot;sticky&quot;: true,\n",
              "}\n",
              "            );\n",
              "        \n",
              "    \n",
              "            var poly_line_a8e0045ea62f0a6f02b97ba71b519965 = L.polyline(\n",
              "                [[41.2063312, 28.9104752], [41.1961454, 28.9180376], [41.1953845, 28.9179445], [41.1838241, 28.9122228], [41.181041, 28.9121832], [41.1786937, 28.9121338], [41.1769143, 28.9097537], [41.1761476, 28.9089488], [41.1753164, 28.9082175], [41.1739856, 28.9077458], [41.170097, 28.9057674], [41.1698765, 28.9054078], [41.1697547, 28.9051254], [41.1695857, 28.9052678], [41.162333, 28.9093459], [41.1615173, 28.9095362], [41.1612562, 28.9095858], [41.1609739, 28.909636], [41.1581657, 28.9104087], [41.1579343, 28.9104819], [41.1575882, 28.9105796], [41.1545993, 28.9114737], [41.1526618, 28.9126581], [41.1518975, 28.9142156], [41.1513992, 28.915261], [41.1508697, 28.9163718], [41.1499713, 28.9179757], [41.1478065, 28.9209136], [41.1473228, 28.9232254], [41.1471351, 28.923824], [41.1376034, 28.9278945], [41.1339906, 28.9382954], [41.1334164, 28.9398143], [41.1327012, 28.9413299], [41.1320737, 28.940947], [41.1036284, 28.9541301], [41.1033521, 28.9541442], [41.1014411, 28.9540515], [41.0997888, 28.9554489], [41.0969636, 28.9597285], [41.0968382, 28.9598182], [41.0966756, 28.9599806], [41.0960461, 28.960999], [41.0955316, 28.9618668], [41.0944933, 28.9637405], [41.0937839, 28.9647113], [41.0928929, 28.9659584], [41.0935803, 28.9669925], [41.0932501, 28.9669963], [41.0934046, 28.9675686], [41.0934947, 28.9675504], [41.0936958, 28.9689151], [41.0936904, 28.9694588], [41.0934881, 28.9697767], [41.0931103, 28.9702078], [41.0926925, 28.9706867], [41.0929947, 28.9721082], [41.0929933, 28.9722391], [41.0928862, 28.9738089], [41.092722, 28.9743784], [41.0924261, 28.975115], [41.0916095, 28.9760584], [41.0912317, 28.9760705], [41.0902918, 28.9771136], [41.0893222, 28.977446], [41.08911, 28.97773], [41.0884527, 28.9779444], [41.0881322, 28.9783409], [41.0860691, 28.978152], [41.0858735, 28.9783022], [41.0858279, 28.9782864], [41.0857333, 28.9783009], [41.08549, 28.979423], [41.0862592, 28.9803927], [41.0864856, 28.981215], [41.087786, 28.9829451], [41.0874211, 28.9830806], [41.0856556, 28.9833842], [41.0847656, 28.98479], [41.0843823, 28.9852104], [41.0842881, 28.9853357], [41.0843141, 28.9854454], [41.0830039, 28.9862869], [41.0819587, 28.9866158], [41.0817228, 28.9867011], [41.0810101, 28.986925], [41.0802549, 28.9868627], [41.0795496, 28.9870294], [41.0786137, 28.9880663], [41.0781869, 28.9892383], [41.0781574, 28.9893129], [41.0781055, 28.9895326], [41.0780839, 28.9896562], [41.0779365, 28.9898515], [41.0774746, 28.9906311], [41.0768822, 28.9917755], [41.0766389, 28.9926336], [41.076685, 28.9930212], [41.0766494, 28.9941776], [41.0761713, 28.9939493], [41.0761602, 28.9937971], [41.0756214, 28.9939162], [41.0753414, 28.9940874], [41.0749758, 28.9943819], [41.0742615, 28.9949886], [41.0740757, 28.9951948], [41.0739099, 28.995427], [41.0737281, 28.9956559], [41.0735421, 28.9959927], [41.0733452, 28.9963494], [41.0726995, 28.9975189], [41.0724789, 28.9980669], [41.0722881, 28.9986966], [41.0721061, 28.9986432], [41.0720041, 28.998611], [41.0718554, 28.9985861], [41.071672, 28.9985678], [41.0711444, 28.998795], [41.0710265, 28.9988606], [41.0705957, 28.9991956], [41.0702787, 28.9994232], [41.0692538, 29.0002681], [41.0692208, 29.0003404], [41.0692799, 29.0004705], [41.0692666, 29.0006004], [41.0678687, 29.0012253], [41.0678086, 29.0012377], [41.0676946, 29.0012664], [41.0672413, 29.0010046], [41.066945, 29.0008451], [41.0667478, 29.0008818], [41.0665727, 29.0008993], [41.0664548, 29.0011539], [41.0664673, 29.0014228], [41.0665794, 29.0029931], [41.0665984, 29.0032695], [41.0666096, 29.0037667], [41.0665936, 29.0039749], [41.0668502, 29.0070079], [41.0668469, 29.0088966], [41.0662613, 29.0126722], [41.0560978, 29.0213702], [41.0381278, 29.0418947], [41.0350994, 29.0442228], [41.0279751, 29.0457015], [41.0236802, 29.0470805], [41.0222766, 29.0479078], [41.0226109, 29.0473654], [41.0227635, 29.0483072], [41.0229271, 29.0493638], [41.0230444, 29.0516751], [41.0231078, 29.0541643], [41.022579, 29.0595365], [41.0220152, 29.0612013], [41.0219932, 29.0613892], [41.0219688, 29.0617474], [41.0219074, 29.0634788], [41.0218536, 29.0636212], [41.0217547, 29.0638477], [41.0210557, 29.0648984], [41.0210172, 29.0650624], [41.020895, 29.0655822], [41.0209469, 29.0660217], [41.0211815, 29.0677397], [41.021383, 29.0684677], [41.0214224, 29.0695005], [41.0216914, 29.0703851], [41.021825, 29.0707506], [41.0221272, 29.0717204], [41.0225247, 29.0722919], [41.0226273, 29.0733971], [41.0226599, 29.0745502], [41.0227245, 29.0769936], [41.0227005, 29.0775395], [41.0229785, 29.0797153], [41.0232486, 29.0802901], [41.023611, 29.0814479], [41.0240947, 29.0831176], [41.0241927, 29.0837479], [41.02418, 29.083958], [41.0241609, 29.0845452], [41.0241609, 29.0846071], [41.024162, 29.085633], [41.0240944, 29.0863255], [41.0240117, 29.0871383], [41.0239667, 29.0874419], [41.0239566, 29.0875496], [41.0239139, 29.0879962], [41.0238611, 29.0888863], [41.0238503, 29.0892296], [41.0238825, 29.0895438], [41.0239011, 29.0896765], [41.0239379, 29.0900327], [41.0239428, 29.0901629], [41.0239565, 29.0905214], [41.0239483, 29.090787], [41.0239168, 29.0910364], [41.0238587, 29.0912766], [41.0237826, 29.0916735], [41.0237287, 29.0928144], [41.0237262, 29.0929899], [41.0236759, 29.0934622], [41.0236504, 29.0936558], [41.0235851, 29.0939996], [41.0234559, 29.0946765], [41.0234308, 29.0948182], [41.0233185, 29.0955222], [41.0232842, 29.0957908], [41.0233495, 29.0960352], [41.0235053, 29.096236], [41.0237096, 29.0964881], [41.0237871, 29.0966364], [41.0239463, 29.0969994], [41.0243988, 29.0980669], [41.0244823, 29.0982596], [41.0245666, 29.0986132], [41.0245669, 29.0987366], [41.0241783, 29.1000104], [41.0239995, 29.1005094], [41.0235443, 29.1017833], [41.0234662, 29.1026656], [41.0233569, 29.1040731], [41.0233259, 29.1045811], [41.0233041, 29.104903], [41.0232636, 29.1060369], [41.0233442, 29.1067068], [41.0233663, 29.1075936], [41.0231375, 29.1089265], [41.0230786, 29.1092695], [41.0225678, 29.1118555], [41.0221104, 29.1139202], [41.0220564, 29.1141506], [41.0220347, 29.114243], [41.021963, 29.1145579], [41.0219023, 29.1147903], [41.0218145, 29.115102], [41.0217035, 29.1155327], [41.0215665, 29.1159771], [41.0214416, 29.1164066], [41.0212957, 29.1168781], [41.0211469, 29.1174611], [41.0211027, 29.1176257], [41.0210307, 29.118019], [41.0209329, 29.1185535], [41.0208159, 29.1191933], [41.0206965, 29.1197407], [41.0206577, 29.1200322], [41.0206261, 29.1204615], [41.0206889, 29.1218496], [41.0206948, 29.12225], [41.0207038, 29.1236126], [41.0209726, 29.1258551], [41.0211111, 29.1265116], [41.0211563, 29.1266567], [41.0211909, 29.1276376], [41.020833, 29.1284173], [41.0207714, 29.1285493], [41.0204383, 29.1290607], [41.0199027, 29.1300492], [41.0196995, 29.1304174], [41.0194261, 29.130873], [41.0190564, 29.1315706], [41.0189564, 29.1317818], [41.0187117, 29.1322542], [41.0185873, 29.1324865], [41.0181095, 29.1333923], [41.0179582, 29.1337022], [41.0177008, 29.1341687], [41.0176106, 29.134513], [41.0175239, 29.1344443], [41.0157879, 29.133203], [41.0156454, 29.1335958], [41.0154893, 29.134008], [41.0152979, 29.1344778]],\n",
              "                {&quot;bubblingMouseEvents&quot;: true, &quot;color&quot;: &quot;blue&quot;, &quot;dashArray&quot;: null, &quot;dashOffset&quot;: null, &quot;fill&quot;: false, &quot;fillColor&quot;: &quot;blue&quot;, &quot;fillOpacity&quot;: 0.2, &quot;fillRule&quot;: &quot;evenodd&quot;, &quot;lineCap&quot;: &quot;round&quot;, &quot;lineJoin&quot;: &quot;round&quot;, &quot;noClip&quot;: false, &quot;opacity&quot;: 0.8, &quot;smoothFactor&quot;: 1.0, &quot;stroke&quot;: true, &quot;weight&quot;: 5}\n",
              "            ).addTo(map_508c3d8ee8c564de84f10fd1e4a628b7);\n",
              "        \n",
              "    \n",
              "            var marker_99dde2c42b21dcb17f81b018c3b83adb = L.marker(\n",
              "                [41.113692, 29.0243735],\n",
              "                {\n",
              "}\n",
              "            ).addTo(map_508c3d8ee8c564de84f10fd1e4a628b7);\n",
              "        \n",
              "    \n",
              "            var icon_63d1e9300d16656210fd7ee28cc1be83 = L.AwesomeMarkers.icon(\n",
              "                {\n",
              "  &quot;markerColor&quot;: &quot;blue&quot;,\n",
              "  &quot;iconColor&quot;: &quot;white&quot;,\n",
              "  &quot;icon&quot;: &quot;info-sign&quot;,\n",
              "  &quot;prefix&quot;: &quot;glyphicon&quot;,\n",
              "  &quot;extraClasses&quot;: &quot;fa-rotate-0&quot;,\n",
              "}\n",
              "            );\n",
              "            marker_99dde2c42b21dcb17f81b018c3b83adb.setIcon(icon_63d1e9300d16656210fd7ee28cc1be83);\n",
              "        \n",
              "    \n",
              "        var popup_3bfd9c22cb0e332d206d22b0f5d738a0 = L.popup({\n",
              "  &quot;maxWidth&quot;: 300,\n",
              "});\n",
              "\n",
              "        \n",
              "            \n",
              "                var html_13249d7e015869cce06549276a4e8997 = $(`&lt;div id=&quot;html_13249d7e015869cce06549276a4e8997&quot; style=&quot;width: 100.0%; height: 100.0%;&quot;&gt;&lt;b&gt;Rota Bilgileri:&lt;/b&gt;&lt;br&gt;Toplam mesafe: 36.74 km&lt;br&gt;Tahmini süre: 44.09 dakika&lt;br&gt;Yakıt verimliliği maliyeti: 36.74&lt;/div&gt;`)[0];\n",
              "                popup_3bfd9c22cb0e332d206d22b0f5d738a0.setContent(html_13249d7e015869cce06549276a4e8997);\n",
              "            \n",
              "        \n",
              "\n",
              "        marker_99dde2c42b21dcb17f81b018c3b83adb.bindPopup(popup_3bfd9c22cb0e332d206d22b0f5d738a0)\n",
              "        ;\n",
              "\n",
              "        \n",
              "    \n",
              "    \n",
              "            tile_layer_dd4cbc15567ecaa74e2ad59b57c065c5.addTo(map_508c3d8ee8c564de84f10fd1e4a628b7);\n",
              "        \n",
              "&lt;/script&gt;\n",
              "&lt;/html&gt;\" style=\"position:absolute;width:100%;height:100%;left:0;top:0;border:none !important;\" allowfullscreen webkitallowfullscreen mozallowfullscreen></iframe></div></div>"
            ]
          },
          "metadata": {},
          "execution_count": 30
        }
      ]
    }
  ]
}